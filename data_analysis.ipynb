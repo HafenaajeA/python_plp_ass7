{
 "cells": [
  {
   "cell_type": "markdown",
   "id": "de5935dc",
   "metadata": {},
   "source": [
    "# Data Analysis with Pandas and Matplotlib\n",
    "## Using the Iris Dataset\n",
    "\n",
    "This notebook demonstrates data analysis and visualization using Python libraries pandas and matplotlib."
   ]
  },
  {
   "cell_type": "code",
   "execution_count": null,
   "id": "887b03df",
   "metadata": {},
   "outputs": [],
   "source": [
    "# Import required libraries\n",
    "import pandas as pd\n",
    "import matplotlib.pyplot as plt\n",
    "import seaborn as sns\n",
    "from sklearn.datasets import load_iris\n",
    "\n",
    "# Set style for better visualizations\n",
    "plt.style.use('seaborn')"
   ]
  },
  {
   "cell_type": "markdown",
   "id": "b5c3b346",
   "metadata": {},
   "source": [
    "## Task 1: Load and Explore the Dataset\n",
    "\n",
    "First, we'll load the Iris dataset and explore its basic structure."
   ]
  },
  {
   "cell_type": "code",
   "execution_count": null,
   "id": "52489c7f",
   "metadata": {},
   "outputs": [],
   "source": [
    "# Load the Iris dataset\n",
    "iris = load_iris()\n",
    "df = pd.DataFrame(iris.data, columns=iris.feature_names)\n",
    "df['species'] = pd.Categorical.from_codes(iris.target, iris.target_names)\n",
    "\n",
    "# Display the first few rows\n",
    "print(\"First 5 rows of the dataset:\")\n",
    "print(df.head())\n",
    "\n",
    "print(\"\\nDataset Info:\")\n",
    "print(df.info())\n",
    "\n",
    "print(\"\\nBasic Statistics:\")\n",
    "print(df.describe())"
   ]
  },
  {
   "cell_type": "markdown",
   "id": "43e1e12e",
   "metadata": {},
   "source": [
    "## Task 2: Basic Data Analysis\n",
    "\n",
    "Let's analyze the data by species and look at some key statistics."
   ]
  },
  {
   "cell_type": "code",
   "execution_count": null,
   "id": "57cfa063",
   "metadata": {},
   "outputs": [],
   "source": [
    "# Group by species and calculate mean\n",
    "species_means = df.groupby('species').mean()\n",
    "print(\"Mean values by species:\")\n",
    "print(species_means)\n",
    "\n",
    "# Check for any missing values\n",
    "print(\"\\nMissing values in dataset:\")\n",
    "print(df.isnull().sum())"
   ]
  },
  {
   "cell_type": "markdown",
   "id": "5e0c971e",
   "metadata": {},
   "source": [
    "## Task 3: Data Visualization\n",
    "\n",
    "Let's create various plots to visualize the data."
   ]
  },
  {
   "cell_type": "code",
   "execution_count": null,
   "id": "11738713",
   "metadata": {},
   "outputs": [],
   "source": [
    "# Create a figure with subplots\n",
    "plt.figure(figsize=(15, 10))\n",
    "\n",
    "# 1. Line plot\n",
    "plt.subplot(2, 2, 1)\n",
    "for species in iris.target_names:\n",
    "    species_data = df[df['species'] == species]\n",
    "    plt.plot(species_data['sepal length (cm)'].values, label=species)\n",
    "plt.title('Sepal Length Patterns')\n",
    "plt.xlabel('Sepal Index')\n",
    "plt.ylabel('Sepal Length (cm)')\n",
    "plt.legend()\n",
    "\n",
    "# 2. Bar plot\n",
    "plt.subplot(2, 2, 2)\n",
    "species_means['petal length (cm)'].plot(kind='bar')\n",
    "plt.title('Average Petal Length by Species')\n",
    "plt.xlabel('Species')\n",
    "plt.ylabel('Petal Length (cm)')\n",
    "\n",
    "# 3. Histogram\n",
    "plt.subplot(2, 2, 3)\n",
    "plt.hist(df['sepal width (cm)'], bins=20)\n",
    "plt.title('Distribution of Sepal Width')\n",
    "plt.xlabel('Sepal Width (cm)')\n",
    "plt.ylabel('Frequency')\n",
    "\n",
    "# 4. Scatter plot\n",
    "plt.subplot(2, 2, 4)\n",
    "for species in iris.target_names:\n",
    "    species_data = df[df['species'] == species]\n",
    "    plt.scatter(species_data['sepal length (cm)'], \n",
    "               species_data['petal length (cm)'],\n",
    "               label=species)\n",
    "plt.title('Sepal Length vs Petal Length')\n",
    "plt.xlabel('Sepal Length (cm)')\n",
    "plt.ylabel('Petal Length (cm)')\n",
    "plt.legend()\n",
    "\n",
    "plt.tight_layout()\n",
    "plt.show()"
   ]
  },
  {
   "cell_type": "markdown",
   "id": "fad08f19",
   "metadata": {},
   "source": [
    "## Findings and Observations\n",
    "\n",
    "1. The dataset contains 150 samples with 4 features and no missing values.\n",
    "2. There are three species of Iris flowers with 50 samples each.\n",
    "3. The scatter plot shows clear separation between Setosa and the other species.\n",
    "4. Petal length shows the most significant variation between species.\n",
    "5. Sepal width has a roughly normal distribution across all species."
   ]
  }
 ],
 "metadata": {
  "language_info": {
   "name": "python"
  }
 },
 "nbformat": 4,
 "nbformat_minor": 5
}
